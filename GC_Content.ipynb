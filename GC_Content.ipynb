{
 "cells": [
  {
   "cell_type": "code",
   "execution_count": 1,
   "metadata": {},
   "outputs": [
    {
     "name": "stdout",
     "output_type": "stream",
     "text": [
      "The GC content of the sequence is 31.48%.\n"
     ]
    }
   ],
   "source": [
    "Sequence = \"ACTGATCGATTACGTATAGTATTTGCTATCATACATATATATCGATGCGTTCAT\" #Assign the sequence to a variable\n",
    "\n",
    "G = Sequence.count(\"G\") #Count the number of G's in the sequence\n",
    "C = Sequence.count(\"C\") #Count the number of C's in the sequence\n",
    "\n",
    "SequenceLength = len(Sequence) #Determine the length of the sequence\n",
    "\n",
    "GCcontent = ((C+G)/(SequenceLength)) #Divide the total number of G's and C's vs the length of the sequence\n",
    "\n",
    "Percentage = (GCcontent * 100) #Find the percentage of the GC content\n",
    "PercentageRounded = (\"%.2f\" % Percentage) #Round the percentage of GC content\n",
    "\n",
    "print('The GC content of the sequence is ' + str(PercentageRounded) + '%.') #Report the percentage of GC content"
   ]
  }
 ],
 "metadata": {
  "kernelspec": {
   "display_name": "Python 3",
   "language": "python",
   "name": "python3"
  },
  "language_info": {
   "codemirror_mode": {
    "name": "ipython",
    "version": 3
   },
   "file_extension": ".py",
   "mimetype": "text/x-python",
   "name": "python",
   "nbconvert_exporter": "python",
   "pygments_lexer": "ipython3",
   "version": "3.6.1"
  }
 },
 "nbformat": 4,
 "nbformat_minor": 2
}
